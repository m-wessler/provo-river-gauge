{
 "cells": [
  {
   "cell_type": "code",
   "execution_count": 78,
   "metadata": {},
   "outputs": [],
   "source": [
    "import os\n",
    "import numpy as np\n",
    "from datetime import datetime, timedelta\n",
    "\n",
    "import requests\n",
    "from bs4 import BeautifulSoup"
   ]
  },
  {
   "cell_type": "code",
   "execution_count": 79,
   "metadata": {},
   "outputs": [],
   "source": [
    "def get_bvflow(dd):\n",
    "    \n",
    "    inflows = ['Deer Creek Penstock #1 Flow', \n",
    "               'Deer Creek Penstock #2 Flow', \n",
    "               'Deer Creek Spillway Flow']\n",
    "    \n",
    "    diversions = ['Deer Creek Salt Lake Aqueduct Flow']\n",
    "\n",
    "    # Can set an offset/bias correct here\n",
    "    bvflow = 0\n",
    "    \n",
    "    print('%s\\n'%datadict['Deer Creek Penstock #1 Flow']['time'][-1])\n",
    "\n",
    "    for k in dd.keys():\n",
    "\n",
    "        if k in inflows:\n",
    "            bvflow += dd[k]['value'][-1]\n",
    "            print('%s:\\t\\t+%.0f cfs'%(k, dd[k]['value'][-1]))\n",
    "\n",
    "        elif k in diversions:\n",
    "            bvflow -= dd[k]['value'][-1]\n",
    "            print('%s:\\t-%.0f cfs'%(k, dd[k]['value'][-1]))\n",
    "\n",
    "    # Try to find a source for the actual power plant diversion in realtime...\n",
    "    # for now assume max of 515 cfs\n",
    "    maxpower = 515\n",
    "    powergen = maxpower if bvflow > maxpower else bvflow        \n",
    "    bvflow -= powergen\n",
    "\n",
    "    print('Deer Creek Power Generation:\\t\\t-%.0f cfs'%powergen)\n",
    "    \n",
    "    print('\\nEstimated BV Flow:\\t\\t\\t%.0f cfs'%bvflow)\n",
    "    \n",
    "    return round(bvflow, 2)"
   ]
  },
  {
   "cell_type": "code",
   "execution_count": 80,
   "metadata": {},
   "outputs": [],
   "source": [
    "df = '/uufs/chpc.utah.edu/common/home/u1070830/rio_project/data/provoBV.npy'\n",
    "new = False if os.path.isfile(df) else True\n",
    "\n",
    "r = requests.get('https://www.prwua.org/water-operations/live-SCADA-system-data.php')\n",
    "soup = BeautifulSoup(r.text, 'html.parser')\n",
    "table = soup.find(id='livescada')\n",
    "rows = table.find_all('tr')"
   ]
  },
  {
   "cell_type": "code",
   "execution_count": 101,
   "metadata": {},
   "outputs": [
    {
     "name": "stdout",
     "output_type": "stream",
     "text": [
      "2019-05-30 12:09:57\n",
      "\n",
      "Deer Creek Salt Lake Aqueduct Flow:\t-30 cfs\n",
      "Deer Creek Penstock #1 Flow:\t\t+516 cfs\n",
      "Deer Creek Penstock #2 Flow:\t\t+524 cfs\n",
      "Deer Creek Spillway Flow:\t\t+0 cfs\n",
      "Deer Creek Power Generation:\t\t-515 cfs\n",
      "\n",
      "Estimated BV Flow:\t\t\t495 cfs\n"
     ]
    }
   ],
   "source": [
    "if new:\n",
    "    datadict = {}\n",
    "else:\n",
    "    datadict = np.load(df)[()]\n",
    "\n",
    "for row in rows[1:]:\n",
    "    cols = row.find_all('td')\n",
    "    cols = [ele.text.strip() for ele in cols]\n",
    "\n",
    "    sid = cols[0]\n",
    "    site = cols[3]\n",
    "    \n",
    "    time = datetime.strptime(cols[1], '%m/%d/%Y %I:%M:%S %p')\n",
    "    \n",
    "    value = float(cols[2])\n",
    "    valtype = site.split(' ')[-1].lower()\n",
    "\n",
    "    if new:\n",
    "        datadict[site] = {'sid':sid, 'type':valtype, 'time':[time], 'value':[value]}\n",
    "        \n",
    "    else:\n",
    "        datadict[site]['time'].append(time)\n",
    "        datadict[site]['value'].append(value)\n",
    "        \n",
    "if new:\n",
    "    datadict['Provo River Bridal Veil Flow'] = {'sid':'BV_EST', 'type':'flow', \n",
    "                                                'time':[datadict['Deer Creek Penstock #1 Flow']['time'][-1]],\n",
    "                                                'value':[get_bvflow(datadict)]}\n",
    "else:\n",
    "    datadict['Provo River Bridal Veil Flow']['time'].append(datadict['Deer Creek Penstock #1 Flow']['time'][-1])\n",
    "    datadict['Provo River Bridal Veil Flow']['value'].append(get_bvflow(datadict))\n",
    "        \n",
    "# np.save(df, datadict)"
   ]
  },
  {
   "cell_type": "code",
   "execution_count": 82,
   "metadata": {},
   "outputs": [],
   "source": [
    "with open('/uufs/chpc.utah.edu/common/home/u1070830/rio_project/bvlog.txt', 'r+') as rfp:\n",
    "    with open('/uufs/chpc.utah.edu/common/home/u1070830/public_html/rivers/provo/bvlog.csv', 'w+') as wfp:\n",
    "\n",
    "        csvdata = rfp.readlines()\n",
    "        lines = len(csvdata)\n",
    "        maxlines = 288 # 12x hour * 24 hours\n",
    "        \n",
    "        if lines <= maxlines:\n",
    "                [wfp.write(line) for line in csvdata]\n",
    "                \n",
    "        else:\n",
    "            wfp.write(csvdata[0])\n",
    "            for line in csvdata[-maxlines:]:\n",
    "                wfp.write(line)\n",
    "                "
   ]
  },
  {
   "cell_type": "code",
   "execution_count": 70,
   "metadata": {},
   "outputs": [],
   "source": []
  },
  {
   "cell_type": "code",
   "execution_count": null,
   "metadata": {},
   "outputs": [],
   "source": []
  }
 ],
 "metadata": {
  "kernelspec": {
   "display_name": "Python 3",
   "language": "python",
   "name": "python3"
  },
  "language_info": {
   "codemirror_mode": {
    "name": "ipython",
    "version": 3
   },
   "file_extension": ".py",
   "mimetype": "text/x-python",
   "name": "python",
   "nbconvert_exporter": "python",
   "pygments_lexer": "ipython3",
   "version": "3.6.5"
  }
 },
 "nbformat": 4,
 "nbformat_minor": 2
}
